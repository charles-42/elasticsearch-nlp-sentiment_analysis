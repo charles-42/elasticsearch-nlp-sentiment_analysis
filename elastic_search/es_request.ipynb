{
 "cells": [
  {
   "cell_type": "code",
   "execution_count": 2,
   "metadata": {},
   "outputs": [],
   "source": [
    "from elasticsearch import Elasticsearch\n",
    "import pandas as pd\n",
    "\n",
    "# Connexion à Elasticsearch\n",
    "es = Elasticsearch([{'host': 'localhost', 'port': 9200,'scheme': 'http'}])"
   ]
  },
  {
   "cell_type": "markdown",
   "metadata": {},
   "source": [
    "Print a sample"
   ]
  },
  {
   "cell_type": "code",
   "execution_count": null,
   "metadata": {},
   "outputs": [],
   "source": [
    "resp = es.search(index=\"notes\", query={\"match_all\": {}})\n",
    "print(\"Got %d Hits:\" % resp['hits']['total']['value'])\n",
    "for hit in resp['hits']['hits'][0:7]:\n",
    "    print(hit['_source'])"
   ]
  },
  {
   "attachments": {},
   "cell_type": "markdown",
   "metadata": {},
   "source": [
    "# 1- Répartition des sentiments par patient"
   ]
  },
  {
   "cell_type": "code",
   "execution_count": null,
   "metadata": {},
   "outputs": [],
   "source": [
    "def get_sentiment_distribution(es,patient_firstname, patient_lastname):\n",
    "    query = {\n",
    "            \"size\": 10,\n",
    "            \"query\": {\n",
    "                \"bool\": {\n",
    "                    \"must\": [\n",
    "                        {\"term\": {\"patient_firstname\": patient_firstname}},\n",
    "                        {\"term\": {\"patient_lastname\": patient_lastname}}\n",
    "                    ]\n",
    "                }\n",
    "            },\n",
    "            \"aggs\": {\n",
    "                \"sentiment_distribution\": {\n",
    "                    \"terms\": {\"field\": \"emotion\"}\n",
    "                }\n",
    "            }\n",
    "        }\n",
    "    \n",
    "\n",
    "    response = es.search(index=\"notes\", body=query)\n",
    "\n",
    "    buckets = response[\"aggregations\"][\"sentiment_distribution\"][\"buckets\"]\n",
    "\n",
    "    df = pd.DataFrame(buckets, columns=[\"key\", \"doc_count\"])\n",
    "    return df\n",
    "\n",
    "print(get_sentiment_distribution(es,'Samantha','Smith'))"
   ]
  },
  {
   "cell_type": "markdown",
   "metadata": {},
   "source": [
    "# 2 - Matrice des sentiments contradictoires"
   ]
  },
  {
   "cell_type": "code",
   "execution_count": 6,
   "metadata": {},
   "outputs": [
    {
     "name": "stderr",
     "output_type": "stream",
     "text": [
      "/var/folders/py/4rt338cj1ks4z3332m7l3f880000gp/T/ipykernel_52425/231789638.py:32: DeprecationWarning: The 'body' parameter is deprecated and will be removed in a future version. Instead use individual parameters.\n",
      "  response = es.search(index=\"notes\", body=query)\n",
      "/var/folders/py/4rt338cj1ks4z3332m7l3f880000gp/T/ipykernel_52425/231789638.py:32: ElasticsearchWarning: Elasticsearch built-in security features are not enabled. Without authentication, your cluster could be accessible to anyone. See https://www.elastic.co/guide/en/elasticsearch/reference/7.17/security-minimal-setup.html to enable security.\n",
      "  response = es.search(index=\"notes\", body=query)\n",
      "/var/folders/py/4rt338cj1ks4z3332m7l3f880000gp/T/ipykernel_52425/231789638.py:11: DeprecationWarning: The 'body' parameter is deprecated and will be removed in a future version. Instead use individual parameters.\n",
      "  response = es.search(index=\"notes\", body=query)\n",
      "/var/folders/py/4rt338cj1ks4z3332m7l3f880000gp/T/ipykernel_52425/231789638.py:11: ElasticsearchWarning: Elasticsearch built-in security features are not enabled. Without authentication, your cluster could be accessible to anyone. See https://www.elastic.co/guide/en/elasticsearch/reference/7.17/security-minimal-setup.html to enable security.\n",
      "  response = es.search(index=\"notes\", body=query)\n"
     ]
    },
    {
     "data": {
      "text/plain": [
       "7606"
      ]
     },
     "execution_count": 6,
     "metadata": {},
     "output_type": "execute_result"
    }
   ],
   "source": [
    "def emotion_count(es,emotion):\n",
    "    query = {\n",
    "        \"size\": 0,\n",
    "        \"query\": {\n",
    "            \"terms\": {\n",
    "                \"emotion\": [emotion]\n",
    "            }\n",
    "        }\n",
    "    }\n",
    "   \n",
    "    response = es.search(index=\"notes\", body=query)\n",
    "\n",
    "    return response[\"hits\"][\"total\"][\"value\"]\n",
    "\n",
    "\n",
    "def get_happy_percentage(es,emotion,emotion_word):\n",
    "    query = {\n",
    "        \"size\": 0,\n",
    "        \"query\": {\n",
    "            \"terms\": {\n",
    "                \"emotion\": [emotion]\n",
    "            }\n",
    "        },\n",
    "        \"post_filter\": {\n",
    "            \"match\": {\n",
    "                \"text\": emotion_word\n",
    "            }\n",
    "        }\n",
    "    }\n",
    "\n",
    "    \n",
    "    response = es.search(index=\"notes\", body=query)\n",
    "\n",
    "    return response[\"hits\"][\"total\"][\"value\"]\n",
    "\n",
    "\n",
    "\n",
    "get_happy_percentage(es,'happy','fear')\n",
    "emotion_count(es,'happy')"
   ]
  },
  {
   "cell_type": "code",
   "execution_count": 7,
   "metadata": {},
   "outputs": [
    {
     "name": "stderr",
     "output_type": "stream",
     "text": [
      "/var/folders/py/4rt338cj1ks4z3332m7l3f880000gp/T/ipykernel_52425/231789638.py:11: DeprecationWarning: The 'body' parameter is deprecated and will be removed in a future version. Instead use individual parameters.\n",
      "  response = es.search(index=\"notes\", body=query)\n",
      "/var/folders/py/4rt338cj1ks4z3332m7l3f880000gp/T/ipykernel_52425/231789638.py:11: ElasticsearchWarning: Elasticsearch built-in security features are not enabled. Without authentication, your cluster could be accessible to anyone. See https://www.elastic.co/guide/en/elasticsearch/reference/7.17/security-minimal-setup.html to enable security.\n",
      "  response = es.search(index=\"notes\", body=query)\n",
      "/var/folders/py/4rt338cj1ks4z3332m7l3f880000gp/T/ipykernel_52425/231789638.py:32: DeprecationWarning: The 'body' parameter is deprecated and will be removed in a future version. Instead use individual parameters.\n",
      "  response = es.search(index=\"notes\", body=query)\n",
      "/var/folders/py/4rt338cj1ks4z3332m7l3f880000gp/T/ipykernel_52425/231789638.py:32: ElasticsearchWarning: Elasticsearch built-in security features are not enabled. Without authentication, your cluster could be accessible to anyone. See https://www.elastic.co/guide/en/elasticsearch/reference/7.17/security-minimal-setup.html to enable security.\n",
      "  response = es.search(index=\"notes\", body=query)\n"
     ]
    },
    {
     "data": {
      "image/png": "[encoded data removed]",
      "text/plain": [
       "<Figure size 800x600 with 2 Axes>"
      ]
     },
     "metadata": {},
     "output_type": "display_data"
    }
   ],
   "source": [
    "import matplotlib.pyplot as plt\n",
    "import seaborn as sns\n",
    "\n",
    "weighted_similarity_matrix = pd.DataFrame(0, index=['happy','sadness','fear','anger','love'], columns=['happy','sadness','fear','anger','love'])\n",
    "\n",
    "for emotion1 in ['happy','sadness','fear','anger','love']:\n",
    "    count_emotion1 = emotion_count(es,emotion1)\n",
    "    for emotion2 in ['happy','sadness','fear','anger','love']:\n",
    "        if emotion1!= emotion2:\n",
    "            similarity = get_happy_percentage(es,emotion1,emotion2)/count_emotion1\n",
    "            weighted_similarity_matrix.loc[emotion1, emotion2] = similarity\n",
    "\n",
    "# Afficher la matrice de similarité pondérée sous forme de heatmap\n",
    "plt.figure(figsize=(8, 6))\n",
    "sns.heatmap(weighted_similarity_matrix, annot=True, cmap=\"YlGnBu\")\n",
    "plt.title(\"Matrice de similarité pondérée entre les sentiments\")\n",
    "plt.show()"
   ]
  },
  {
   "attachments": {},
   "cell_type": "markdown",
   "metadata": {},
   "source": [
    "#3- Etapes du deuil"
   ]
  },
  {
   "cell_type": "code",
   "execution_count": 11,
   "metadata": {},
   "outputs": [],
   "source": [
    "def search_text_by_depression_stage(es,stage):\n",
    "    query = {\n",
    "        \"size\": 0,\n",
    "        \"query\": {\n",
    "            \"match\": {\n",
    "                \"text\": stage\n",
    "            }\n",
    "        }\n",
    "    }\n",
    "\n",
    "    response = es.search(index=\"notes\", body=query)\n",
    "    total_docs = response[\"hits\"][\"total\"][\"value\"]\n",
    "    \n",
    "    return total_docs\n",
    "\n",
    "\n",
    "def fuzzy_search_text_by_depression_stage(es,stage):\n",
    "    query = {\n",
    "        \"size\": 0,\n",
    "        \"query\": {\n",
    "            \"fuzzy\": {\n",
    "                \"text\": {\n",
    "                    \"value\": stage,\n",
    "                    \"fuzziness\": \"AUTO\"\n",
    "                }\n",
    "            }\n",
    "        }\n",
    "    }\n",
    "\n",
    "    response = es.search(index=\"notes\", body=query)\n",
    "    total_docs = response[\"hits\"][\"total\"][\"value\"]\n",
    "    \n",
    "    return total_docs"
   ]
  },
  {
   "cell_type": "code",
   "execution_count": 12,
   "metadata": {},
   "outputs": [
    {
     "name": "stderr",
     "output_type": "stream",
     "text": [
      "/var/folders/py/4rt338cj1ks4z3332m7l3f880000gp/T/ipykernel_52425/1032775568.py:11: DeprecationWarning: The 'body' parameter is deprecated and will be removed in a future version. Instead use individual parameters.\n",
      "  response = es.search(index=\"notes\", body=query)\n",
      "/var/folders/py/4rt338cj1ks4z3332m7l3f880000gp/T/ipykernel_52425/1032775568.py:11: ElasticsearchWarning: Elasticsearch built-in security features are not enabled. Without authentication, your cluster could be accessible to anyone. See https://www.elastic.co/guide/en/elasticsearch/reference/7.17/security-minimal-setup.html to enable security.\n",
      "  response = es.search(index=\"notes\", body=query)\n"
     ]
    },
    {
     "data": {
      "text/plain": [
       "2"
      ]
     },
     "execution_count": 12,
     "metadata": {},
     "output_type": "execute_result"
    }
   ],
   "source": [
    "search_text_by_depression_stage(es,'denial')"
   ]
  },
  {
   "cell_type": "code",
   "execution_count": 13,
   "metadata": {},
   "outputs": [
    {
     "name": "stderr",
     "output_type": "stream",
     "text": [
      "/var/folders/py/4rt338cj1ks4z3332m7l3f880000gp/T/ipykernel_52425/1032775568.py:30: DeprecationWarning: The 'body' parameter is deprecated and will be removed in a future version. Instead use individual parameters.\n",
      "  response = es.search(index=\"notes\", body=query)\n",
      "/var/folders/py/4rt338cj1ks4z3332m7l3f880000gp/T/ipykernel_52425/1032775568.py:30: ElasticsearchWarning: Elasticsearch built-in security features are not enabled. Without authentication, your cluster could be accessible to anyone. See https://www.elastic.co/guide/en/elasticsearch/reference/7.17/security-minimal-setup.html to enable security.\n",
      "  response = es.search(index=\"notes\", body=query)\n"
     ]
    },
    {
     "data": {
      "text/plain": [
       "119"
      ]
     },
     "execution_count": 13,
     "metadata": {},
     "output_type": "execute_result"
    }
   ],
   "source": [
    "fuzzy_search_text_by_depression_stage(es,'denial')"
   ]
  },
  {
   "cell_type": "markdown",
   "metadata": {},
   "source": [
    "# 4- recherche avec plusieurs critères"
   ]
  },
  {
   "cell_type": "code",
   "execution_count": 15,
   "metadata": {},
   "outputs": [],
   "source": [
    "def search_matching_texts(es):\n",
    "    query = {\n",
    "        \"query\": {\n",
    "            \"bool\": {\n",
    "                \"must\": [\n",
    "                    {\"match\": {\"text\": \"good day\"}},\n",
    "                    {\"term\": {\"patient_left\": False}}\n",
    "                ],\n",
    "                \"should\": [\n",
    "                    {\"match\": {\"text\": \"to rest\"}}\n",
    "                ],\n",
    "                \"filter\": [\n",
    "                    {\"range\": {\"confidence\": {\"gte\": 0.5}}}\n",
    "                ]\n",
    "            }\n",
    "        }\n",
    "    }\n",
    "\n",
    "    response = es.search(index=\"notes\", body=query)\n",
    "    hits = response[\"hits\"][\"hits\"]\n",
    "    matching_texts = [hit[\"_source\"][\"text\"] for hit in hits]\n",
    "    \n",
    "    return matching_texts"
   ]
  },
  {
   "cell_type": "code",
   "execution_count": 16,
   "metadata": {},
   "outputs": [
    {
     "name": "stderr",
     "output_type": "stream",
     "text": [
      "/var/folders/py/4rt338cj1ks4z3332m7l3f880000gp/T/ipykernel_52425/496882350.py:19: DeprecationWarning: The 'body' parameter is deprecated and will be removed in a future version. Instead use individual parameters.\n",
      "  response = es.search(index=\"notes\", body=query)\n",
      "/var/folders/py/4rt338cj1ks4z3332m7l3f880000gp/T/ipykernel_52425/496882350.py:19: ElasticsearchWarning: Elasticsearch built-in security features are not enabled. Without authentication, your cluster could be accessible to anyone. See https://www.elastic.co/guide/en/elasticsearch/reference/7.17/security-minimal-setup.html to enable security.\n",
      "  response = es.search(index=\"notes\", body=query)\n"
     ]
    },
    {
     "data": {
      "text/plain": [
       "['i either feel like crap about myself all day and try to make up for it the rest of the day and am exhausted',\n",
       " 'i end up feeling groggy the rest of the day amp guilty that i didnt get anything done',\n",
       " 'i am off on wednesday to a postgraduate open day but there will be plenty to write about the rest of the week i feel sure',\n",
       " 'ive had where i feel good enough to work the whole shift possibly the whole day',\n",
       " 'i feel so lame complaining that for minutes i get some blurry vision and then have to take it easy the rest of the day',\n",
       " 'i worked out monday and tuesday but i was feeling so crappy on wednesday that i went home and decided to make it a rest day',\n",
       " 'i know that obrian can do good characterisation as evidenced in his main characters it just feels like he couldnt be bothered to extend that to the rest of the crew',\n",
       " 'i remember laying in the bath feeling really emotional knowing that i was going to bring my baby into the world on the day that miss cook was laid to rest',\n",
       " 'i do finally get some sleep i have the craziest weirdest dreams that make me feel like i didnt get any good rest anyways',\n",
       " 'i feel rather listless and dull today slightly head achy and good chances of blahness throughout the day']"
      ]
     },
     "execution_count": 16,
     "metadata": {},
     "output_type": "execute_result"
    }
   ],
   "source": [
    "search_matching_texts(es)"
   ]
  },
  {
   "cell_type": "code",
   "execution_count": null,
   "metadata": {},
   "outputs": [],
   "source": []
  }
 ],
 "metadata": {
  "kernelspec": {
   "display_name": "env",
   "language": "python",
   "name": "python3"
  },
  "language_info": {
   "codemirror_mode": {
    "name": "ipython",
    "version": 3
   },
   "file_extension": ".py",
   "mimetype": "text/x-python",
   "name": "python",
   "nbconvert_exporter": "python",
   "pygments_lexer": "ipython3",
   "version": "3.10.10"
  },
  "orig_nbformat": 4
 },
 "nbformat": 4,
 "nbformat_minor": 2
}
